{
 "cells": [
  {
   "cell_type": "code",
   "execution_count": 9,
   "metadata": {},
   "outputs": [],
   "source": [
    "import time\n",
    "def binarySearch(alist,item):\n",
    "    first=0\n",
    "    last=len(alist)-1\n",
    "    found=False\n",
    "    while first<=last and not found:\n",
    "        midpoint=(first+last)//2\n",
    "        if alist[midpoint] == item:\n",
    "            found=True\n",
    "        else:\n",
    "            if item < alist[midpoint]:\n",
    "                last=midpoint-1\n",
    "            else:\n",
    "                first=midpoint+1\n",
    "    return found"
   ]
  },
  {
   "cell_type": "code",
   "execution_count": 10,
   "metadata": {},
   "outputs": [],
   "source": [
    "import time as ti"
   ]
  },
  {
   "cell_type": "code",
   "execution_count": 11,
   "metadata": {},
   "outputs": [],
   "source": [
    "a = ti.time();p=binarySearch(list(range(200000,1,-1)),100);b = ti.time();c = b-a"
   ]
  },
  {
   "cell_type": "code",
   "execution_count": 12,
   "metadata": {},
   "outputs": [
    {
     "name": "stdout",
     "output_type": "stream",
     "text": [
      "False\n",
      "0.015620708465576172\n"
     ]
    }
   ],
   "source": [
    "print (p)\n",
    "print (c)"
   ]
  }
 ],
 "metadata": {
  "kernelspec": {
   "display_name": "Python 3",
   "language": "python",
   "name": "python3"
  },
  "language_info": {
   "codemirror_mode": {
    "name": "ipython",
    "version": 3
   },
   "file_extension": ".py",
   "mimetype": "text/x-python",
   "name": "python",
   "nbconvert_exporter": "python",
   "pygments_lexer": "ipython3",
   "version": "3.7.0"
  }
 },
 "nbformat": 4,
 "nbformat_minor": 2
}
